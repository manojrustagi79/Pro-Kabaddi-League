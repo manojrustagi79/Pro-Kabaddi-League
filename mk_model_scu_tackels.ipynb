{
 "cells": [
  {
   "cell_type": "markdown",
   "metadata": {},
   "source": [
    "### Task 4: Predicting the team with the highest points for successful tackles"
   ]
  },
  {
   "cell_type": "code",
   "execution_count": 750,
   "metadata": {},
   "outputs": [],
   "source": [
    "import pandas as pd\n",
    "# Importing matplotlib and seaborn\n",
    "import matplotlib.pyplot as plt\n",
    "import seaborn as sns\n"
   ]
  },
  {
   "cell_type": "code",
   "execution_count": 751,
   "metadata": {},
   "outputs": [
    {
     "name": "stdout",
     "output_type": "stream",
     "text": [
      "<class 'pandas.core.frame.DataFrame'>\n",
      "RangeIndex: 68 entries, 0 to 67\n",
      "Data columns (total 66 columns):\n",
      "Unnamed: 0                            68 non-null int64\n",
      "total_points_scored_match_played      68 non-null int64\n",
      "total_points_scored_rank              68 non-null int64\n",
      "team_id                               68 non-null int64\n",
      "team_name                             68 non-null object\n",
      "total_points_scored                   68 non-null int64\n",
      "total_points_conceded_match_played    68 non-null int64\n",
      "total_points_conceded_rank            68 non-null int64\n",
      "total_points_conceded                 68 non-null int64\n",
      "avg_points_scored_match_played        68 non-null int64\n",
      "avg_points_scored_rank                68 non-null int64\n",
      "avg_points_scored                     68 non-null float64\n",
      "successful_raids_match_played         68 non-null int64\n",
      "successful_raids_rank                 68 non-null int64\n",
      "successful_raids                      68 non-null int64\n",
      "raid_points_match_played              68 non-null int64\n",
      "raid_points_rank                      68 non-null int64\n",
      "raid_points                           68 non-null int64\n",
      "avg_raid_points_match_played          68 non-null int64\n",
      "avg_raid_points_rank                  68 non-null int64\n",
      "avg_raid_points                       68 non-null float64\n",
      "successful_tackles_match_played       68 non-null int64\n",
      "successful_tackles_rank               68 non-null int64\n",
      "successful_tackles                    68 non-null int64\n",
      "tackle_points_match_played            68 non-null int64\n",
      "tackle_points_rank                    68 non-null int64\n",
      "tackle_points                         68 non-null int64\n",
      "avg_tackle_points_match_played        68 non-null int64\n",
      "avg_tackle_points_rank                68 non-null int64\n",
      "avg_tackle_points                     68 non-null float64\n",
      "super_raid_match_played               68 non-null int64\n",
      "super_raid_rank                       68 non-null int64\n",
      "super_raid                            68 non-null int64\n",
      "super_tackles_match_played            68 non-null int64\n",
      "super_tackles_rank                    68 non-null int64\n",
      "super_tackles                         68 non-null int64\n",
      "do_or_die_raid_points_match_played    68 non-null int64\n",
      "do_or_die_raid_points_rank            68 non-null int64\n",
      "do_or_die_raid_points                 68 non-null int64\n",
      "all_outs_inflicted_match_played       68 non-null int64\n",
      "all_outs_inflicted_rank               68 non-null int64\n",
      "all_outs_inflicted                    68 non-null int64\n",
      "all_outs_conceded_match_played        68 non-null int64\n",
      "all_outs_conceded_rank                68 non-null int64\n",
      "all_outs_conceded                     68 non-null int64\n",
      "season                                68 non-null int64\n",
      "winner                                68 non-null int64\n",
      "away_points_conceded                  68 non-null int64\n",
      "away_points_scored                    68 non-null int64\n",
      "away_wins                             68 non-null int64\n",
      "draws                                 68 non-null int64\n",
      "home_wins                             68 non-null int64\n",
      "is_qualified                          68 non-null bool\n",
      "lost                                  68 non-null int64\n",
      "noresult                              68 non-null int64\n",
      "played                                68 non-null int64\n",
      "points                                68 non-null int64\n",
      "points_conceded                       68 non-null int64\n",
      "points_scored                         68 non-null int64\n",
      "position                              68 non-null int64\n",
      "score_diff                            68 non-null int64\n",
      "team_global_id                        68 non-null int64\n",
      "team_short_name                       68 non-null object\n",
      "tied                                  68 non-null int64\n",
      "trump_matches_won                     68 non-null int64\n",
      "wins                                  68 non-null int64\n",
      "dtypes: bool(1), float64(3), int64(60), object(2)\n",
      "memory usage: 34.7+ KB\n"
     ]
    }
   ],
   "source": [
    "df = pd.read_csv(\"team_data.csv\", sep=\",\")\n",
    "\n",
    "df.info()"
   ]
  },
  {
   "cell_type": "code",
   "execution_count": 752,
   "metadata": {},
   "outputs": [],
   "source": [
    "#extract non zero columns \n",
    "df_new = df.loc[:, (df != 0).any(axis=0)]\n"
   ]
  },
  {
   "cell_type": "code",
   "execution_count": 753,
   "metadata": {},
   "outputs": [
    {
     "name": "stdout",
     "output_type": "stream",
     "text": [
      "<class 'pandas.core.frame.DataFrame'>\n",
      "RangeIndex: 68 entries, 0 to 67\n",
      "Data columns (total 59 columns):\n",
      "Unnamed: 0                            68 non-null int64\n",
      "total_points_scored_match_played      68 non-null int64\n",
      "total_points_scored_rank              68 non-null int64\n",
      "team_id                               68 non-null int64\n",
      "team_name                             68 non-null object\n",
      "total_points_scored                   68 non-null int64\n",
      "total_points_conceded_match_played    68 non-null int64\n",
      "total_points_conceded_rank            68 non-null int64\n",
      "total_points_conceded                 68 non-null int64\n",
      "avg_points_scored_match_played        68 non-null int64\n",
      "avg_points_scored_rank                68 non-null int64\n",
      "avg_points_scored                     68 non-null float64\n",
      "successful_raids_match_played         68 non-null int64\n",
      "successful_raids_rank                 68 non-null int64\n",
      "successful_raids                      68 non-null int64\n",
      "raid_points_match_played              68 non-null int64\n",
      "raid_points_rank                      68 non-null int64\n",
      "raid_points                           68 non-null int64\n",
      "avg_raid_points_match_played          68 non-null int64\n",
      "avg_raid_points_rank                  68 non-null int64\n",
      "avg_raid_points                       68 non-null float64\n",
      "successful_tackles_match_played       68 non-null int64\n",
      "successful_tackles_rank               68 non-null int64\n",
      "successful_tackles                    68 non-null int64\n",
      "tackle_points_match_played            68 non-null int64\n",
      "tackle_points_rank                    68 non-null int64\n",
      "tackle_points                         68 non-null int64\n",
      "avg_tackle_points_match_played        68 non-null int64\n",
      "avg_tackle_points_rank                68 non-null int64\n",
      "avg_tackle_points                     68 non-null float64\n",
      "super_raid_match_played               68 non-null int64\n",
      "super_raid_rank                       68 non-null int64\n",
      "super_raid                            68 non-null int64\n",
      "super_tackles_match_played            68 non-null int64\n",
      "super_tackles_rank                    68 non-null int64\n",
      "super_tackles                         68 non-null int64\n",
      "do_or_die_raid_points_match_played    68 non-null int64\n",
      "do_or_die_raid_points_rank            68 non-null int64\n",
      "do_or_die_raid_points                 68 non-null int64\n",
      "all_outs_inflicted_match_played       68 non-null int64\n",
      "all_outs_inflicted_rank               68 non-null int64\n",
      "all_outs_inflicted                    68 non-null int64\n",
      "all_outs_conceded_match_played        68 non-null int64\n",
      "all_outs_conceded_rank                68 non-null int64\n",
      "all_outs_conceded                     68 non-null int64\n",
      "season                                68 non-null int64\n",
      "winner                                68 non-null int64\n",
      "draws                                 68 non-null int64\n",
      "is_qualified                          68 non-null bool\n",
      "lost                                  68 non-null int64\n",
      "played                                68 non-null int64\n",
      "points                                68 non-null int64\n",
      "points_conceded                       68 non-null int64\n",
      "points_scored                         68 non-null int64\n",
      "position                              68 non-null int64\n",
      "score_diff                            68 non-null int64\n",
      "team_short_name                       68 non-null object\n",
      "tied                                  68 non-null int64\n",
      "wins                                  68 non-null int64\n",
      "dtypes: bool(1), float64(3), int64(53), object(2)\n",
      "memory usage: 31.0+ KB\n"
     ]
    }
   ],
   "source": [
    "df_new.info()"
   ]
  },
  {
   "cell_type": "code",
   "execution_count": 754,
   "metadata": {},
   "outputs": [
    {
     "name": "stderr",
     "output_type": "stream",
     "text": [
      "/usr/local/lib/python3.6/dist-packages/pandas/core/frame.py:3940: SettingWithCopyWarning: \n",
      "A value is trying to be set on a copy of a slice from a DataFrame\n",
      "\n",
      "See the caveats in the documentation: http://pandas.pydata.org/pandas-docs/stable/indexing.html#indexing-view-versus-copy\n",
      "  errors=errors)\n"
     ]
    }
   ],
   "source": [
    "#drop irrelevant column \n",
    "df_new.drop(columns=\"Unnamed: 0\",axis=1,inplace=True)"
   ]
  },
  {
   "cell_type": "code",
   "execution_count": 755,
   "metadata": {},
   "outputs": [
    {
     "name": "stdout",
     "output_type": "stream",
     "text": [
      "<class 'pandas.core.frame.DataFrame'>\n",
      "RangeIndex: 68 entries, 0 to 67\n",
      "Data columns (total 58 columns):\n",
      "total_points_scored_match_played      68 non-null int64\n",
      "total_points_scored_rank              68 non-null int64\n",
      "team_id                               68 non-null int64\n",
      "team_name                             68 non-null object\n",
      "total_points_scored                   68 non-null int64\n",
      "total_points_conceded_match_played    68 non-null int64\n",
      "total_points_conceded_rank            68 non-null int64\n",
      "total_points_conceded                 68 non-null int64\n",
      "avg_points_scored_match_played        68 non-null int64\n",
      "avg_points_scored_rank                68 non-null int64\n",
      "avg_points_scored                     68 non-null float64\n",
      "successful_raids_match_played         68 non-null int64\n",
      "successful_raids_rank                 68 non-null int64\n",
      "successful_raids                      68 non-null int64\n",
      "raid_points_match_played              68 non-null int64\n",
      "raid_points_rank                      68 non-null int64\n",
      "raid_points                           68 non-null int64\n",
      "avg_raid_points_match_played          68 non-null int64\n",
      "avg_raid_points_rank                  68 non-null int64\n",
      "avg_raid_points                       68 non-null float64\n",
      "successful_tackles_match_played       68 non-null int64\n",
      "successful_tackles_rank               68 non-null int64\n",
      "successful_tackles                    68 non-null int64\n",
      "tackle_points_match_played            68 non-null int64\n",
      "tackle_points_rank                    68 non-null int64\n",
      "tackle_points                         68 non-null int64\n",
      "avg_tackle_points_match_played        68 non-null int64\n",
      "avg_tackle_points_rank                68 non-null int64\n",
      "avg_tackle_points                     68 non-null float64\n",
      "super_raid_match_played               68 non-null int64\n",
      "super_raid_rank                       68 non-null int64\n",
      "super_raid                            68 non-null int64\n",
      "super_tackles_match_played            68 non-null int64\n",
      "super_tackles_rank                    68 non-null int64\n",
      "super_tackles                         68 non-null int64\n",
      "do_or_die_raid_points_match_played    68 non-null int64\n",
      "do_or_die_raid_points_rank            68 non-null int64\n",
      "do_or_die_raid_points                 68 non-null int64\n",
      "all_outs_inflicted_match_played       68 non-null int64\n",
      "all_outs_inflicted_rank               68 non-null int64\n",
      "all_outs_inflicted                    68 non-null int64\n",
      "all_outs_conceded_match_played        68 non-null int64\n",
      "all_outs_conceded_rank                68 non-null int64\n",
      "all_outs_conceded                     68 non-null int64\n",
      "season                                68 non-null int64\n",
      "winner                                68 non-null int64\n",
      "draws                                 68 non-null int64\n",
      "is_qualified                          68 non-null bool\n",
      "lost                                  68 non-null int64\n",
      "played                                68 non-null int64\n",
      "points                                68 non-null int64\n",
      "points_conceded                       68 non-null int64\n",
      "points_scored                         68 non-null int64\n",
      "position                              68 non-null int64\n",
      "score_diff                            68 non-null int64\n",
      "team_short_name                       68 non-null object\n",
      "tied                                  68 non-null int64\n",
      "wins                                  68 non-null int64\n",
      "dtypes: bool(1), float64(3), int64(52), object(2)\n",
      "memory usage: 30.4+ KB\n"
     ]
    }
   ],
   "source": [
    "df_new.info()"
   ]
  },
  {
   "cell_type": "code",
   "execution_count": 756,
   "metadata": {},
   "outputs": [
    {
     "data": {
      "text/plain": [
       "total_points_scored_match_played      0\n",
       "total_points_scored_rank              0\n",
       "team_id                               0\n",
       "team_name                             0\n",
       "total_points_scored                   0\n",
       "total_points_conceded_match_played    0\n",
       "total_points_conceded_rank            0\n",
       "total_points_conceded                 0\n",
       "avg_points_scored_match_played        0\n",
       "avg_points_scored_rank                0\n",
       "avg_points_scored                     0\n",
       "successful_raids_match_played         0\n",
       "successful_raids_rank                 0\n",
       "successful_raids                      0\n",
       "raid_points_match_played              0\n",
       "raid_points_rank                      0\n",
       "raid_points                           0\n",
       "avg_raid_points_match_played          0\n",
       "avg_raid_points_rank                  0\n",
       "avg_raid_points                       0\n",
       "successful_tackles_match_played       0\n",
       "successful_tackles_rank               0\n",
       "successful_tackles                    0\n",
       "tackle_points_match_played            0\n",
       "tackle_points_rank                    0\n",
       "tackle_points                         0\n",
       "avg_tackle_points_match_played        0\n",
       "avg_tackle_points_rank                0\n",
       "avg_tackle_points                     0\n",
       "super_raid_match_played               0\n",
       "super_raid_rank                       0\n",
       "super_raid                            0\n",
       "super_tackles_match_played            0\n",
       "super_tackles_rank                    0\n",
       "super_tackles                         0\n",
       "do_or_die_raid_points_match_played    0\n",
       "do_or_die_raid_points_rank            0\n",
       "do_or_die_raid_points                 0\n",
       "all_outs_inflicted_match_played       0\n",
       "all_outs_inflicted_rank               0\n",
       "all_outs_inflicted                    0\n",
       "all_outs_conceded_match_played        0\n",
       "all_outs_conceded_rank                0\n",
       "all_outs_conceded                     0\n",
       "season                                0\n",
       "winner                                0\n",
       "draws                                 0\n",
       "is_qualified                          0\n",
       "lost                                  0\n",
       "played                                0\n",
       "points                                0\n",
       "points_conceded                       0\n",
       "points_scored                         0\n",
       "position                              0\n",
       "score_diff                            0\n",
       "team_short_name                       0\n",
       "tied                                  0\n",
       "wins                                  0\n",
       "dtype: int64"
      ]
     },
     "execution_count": 756,
     "metadata": {},
     "output_type": "execute_result"
    }
   ],
   "source": [
    "#verify if any column has all value 0\n",
    "df_new.isnull().sum()"
   ]
  },
  {
   "cell_type": "code",
   "execution_count": 757,
   "metadata": {},
   "outputs": [
    {
     "name": "stderr",
     "output_type": "stream",
     "text": [
      "/usr/local/lib/python3.6/dist-packages/ipykernel_launcher.py:2: SettingWithCopyWarning: \n",
      "A value is trying to be set on a copy of a slice from a DataFrame.\n",
      "Try using .loc[row_indexer,col_indexer] = value instead\n",
      "\n",
      "See the caveats in the documentation: http://pandas.pydata.org/pandas-docs/stable/indexing.html#indexing-view-versus-copy\n",
      "  \n"
     ]
    }
   ],
   "source": [
    "# converting boolean to numeric \n",
    "df_new[\"is_qualified\"] = df_new[\"is_qualified\"].astype(int)\n",
    "\n"
   ]
  },
  {
   "cell_type": "code",
   "execution_count": 758,
   "metadata": {},
   "outputs": [
    {
     "data": {
      "text/plain": [
       "0     1\n",
       "1     0\n",
       "2     0\n",
       "3     1\n",
       "4     0\n",
       "5     0\n",
       "6     0\n",
       "7     0\n",
       "8     0\n",
       "9     0\n",
       "10    0\n",
       "11    0\n",
       "12    1\n",
       "13    1\n",
       "14    1\n",
       "15    1\n",
       "16    1\n",
       "17    0\n",
       "18    1\n",
       "19    0\n",
       "20    0\n",
       "21    0\n",
       "22    0\n",
       "23    0\n",
       "24    1\n",
       "25    1\n",
       "26    1\n",
       "27    1\n",
       "28    1\n",
       "29    1\n",
       "     ..\n",
       "38    0\n",
       "39    0\n",
       "40    0\n",
       "41    0\n",
       "42    0\n",
       "43    0\n",
       "44    0\n",
       "45    0\n",
       "46    0\n",
       "47    0\n",
       "48    0\n",
       "49    0\n",
       "50    0\n",
       "51    0\n",
       "52    0\n",
       "53    0\n",
       "54    0\n",
       "55    0\n",
       "56    0\n",
       "57    0\n",
       "58    0\n",
       "59    0\n",
       "60    0\n",
       "61    0\n",
       "62    0\n",
       "63    0\n",
       "64    0\n",
       "65    0\n",
       "66    0\n",
       "67    0\n",
       "Name: is_qualified, Length: 68, dtype: int64"
      ]
     },
     "execution_count": 758,
     "metadata": {},
     "output_type": "execute_result"
    }
   ],
   "source": [
    "df_new[\"is_qualified\"]"
   ]
  },
  {
   "cell_type": "code",
   "execution_count": 759,
   "metadata": {},
   "outputs": [
    {
     "name": "stderr",
     "output_type": "stream",
     "text": [
      "/usr/local/lib/python3.6/dist-packages/ipykernel_launcher.py:16: SettingWithCopyWarning: \n",
      "A value is trying to be set on a copy of a slice from a DataFrame.\n",
      "Try using .loc[row_indexer,col_indexer] = value instead\n",
      "\n",
      "See the caveats in the documentation: http://pandas.pydata.org/pandas-docs/stable/indexing.html#indexing-view-versus-copy\n",
      "  app.launch_new_instance()\n"
     ]
    }
   ],
   "source": [
    "#calulate perfomance rate for a team (points earned/match played)\n",
    "col_t = df_new.columns[df_new.columns.str.endswith('_match_played')]\n",
    "\n",
    "col_s = ['total_points_scored',\n",
    "       'total_points_conceded', 'avg_points_scored',\n",
    "       'successful_raids', 'raid_points',\n",
    "       'avg_raid_points', 'successful_tackles',\n",
    "       'tackle_points', 'avg_tackle_points',\n",
    "       'super_raid', 'super_tackles',\n",
    "       'do_or_die_raid_points', 'all_outs_inflicted',\n",
    "       'all_outs_conceded']\n",
    "\n",
    "point = \"_p\"\n",
    "\n",
    "for i in range(len(col_t)):\n",
    "    df_new[col_s[i]+point] = df_new[col_s[i]]/df_new[col_t[i]]\n",
    "\n",
    "\n",
    "df_new.drop(col_s, axis=1, inplace=True)\n",
    "df_new.drop(col_t, axis=1, inplace=True)"
   ]
  },
  {
   "cell_type": "code",
   "execution_count": 760,
   "metadata": {},
   "outputs": [],
   "source": [
    "df_new[\"win_rate\"] = df_new[\"wins\"]/df_new[\"played\"]"
   ]
  },
  {
   "cell_type": "code",
   "execution_count": 761,
   "metadata": {},
   "outputs": [],
   "source": [
    "df_new.drop([\"wins\", \"played\"], axis=1, inplace=True)"
   ]
  },
  {
   "cell_type": "code",
   "execution_count": 762,
   "metadata": {},
   "outputs": [
    {
     "name": "stdout",
     "output_type": "stream",
     "text": [
      "<class 'pandas.core.frame.DataFrame'>\n",
      "RangeIndex: 68 entries, 0 to 67\n",
      "Data columns (total 43 columns):\n",
      "total_points_scored_rank      68 non-null int64\n",
      "team_id                       68 non-null int64\n",
      "team_name                     68 non-null object\n",
      "total_points_conceded_rank    68 non-null int64\n",
      "avg_points_scored_rank        68 non-null int64\n",
      "successful_raids_rank         68 non-null int64\n",
      "raid_points_rank              68 non-null int64\n",
      "avg_raid_points_rank          68 non-null int64\n",
      "successful_tackles_rank       68 non-null int64\n",
      "tackle_points_rank            68 non-null int64\n",
      "avg_tackle_points_rank        68 non-null int64\n",
      "super_raid_rank               68 non-null int64\n",
      "super_tackles_rank            68 non-null int64\n",
      "do_or_die_raid_points_rank    68 non-null int64\n",
      "all_outs_inflicted_rank       68 non-null int64\n",
      "all_outs_conceded_rank        68 non-null int64\n",
      "season                        68 non-null int64\n",
      "winner                        68 non-null int64\n",
      "draws                         68 non-null int64\n",
      "is_qualified                  68 non-null int64\n",
      "lost                          68 non-null int64\n",
      "points                        68 non-null int64\n",
      "points_conceded               68 non-null int64\n",
      "points_scored                 68 non-null int64\n",
      "position                      68 non-null int64\n",
      "score_diff                    68 non-null int64\n",
      "team_short_name               68 non-null object\n",
      "tied                          68 non-null int64\n",
      "total_points_scored_p         68 non-null float64\n",
      "total_points_conceded_p       68 non-null float64\n",
      "avg_points_scored_p           68 non-null float64\n",
      "successful_raids_p            68 non-null float64\n",
      "raid_points_p                 68 non-null float64\n",
      "avg_raid_points_p             68 non-null float64\n",
      "successful_tackles_p          68 non-null float64\n",
      "tackle_points_p               68 non-null float64\n",
      "avg_tackle_points_p           68 non-null float64\n",
      "super_raid_p                  68 non-null float64\n",
      "super_tackles_p               68 non-null float64\n",
      "do_or_die_raid_points_p       68 non-null float64\n",
      "all_outs_inflicted_p          68 non-null float64\n",
      "all_outs_conceded_p           68 non-null float64\n",
      "win_rate                      68 non-null float64\n",
      "dtypes: float64(15), int64(26), object(2)\n",
      "memory usage: 22.9+ KB\n"
     ]
    }
   ],
   "source": [
    "df_new.info()"
   ]
  },
  {
   "cell_type": "code",
   "execution_count": 763,
   "metadata": {},
   "outputs": [],
   "source": [
    "#extract test data for season 7\n",
    "test_data = df_new[df_new['season']==7]"
   ]
  },
  {
   "cell_type": "code",
   "execution_count": 764,
   "metadata": {},
   "outputs": [
    {
     "data": {
      "text/html": [
       "<div>\n",
       "<style scoped>\n",
       "    .dataframe tbody tr th:only-of-type {\n",
       "        vertical-align: middle;\n",
       "    }\n",
       "\n",
       "    .dataframe tbody tr th {\n",
       "        vertical-align: top;\n",
       "    }\n",
       "\n",
       "    .dataframe thead th {\n",
       "        text-align: right;\n",
       "    }\n",
       "</style>\n",
       "<table border=\"1\" class=\"dataframe\">\n",
       "  <thead>\n",
       "    <tr style=\"text-align: right;\">\n",
       "      <th></th>\n",
       "      <th>total_points_scored_rank</th>\n",
       "      <th>team_id</th>\n",
       "      <th>team_name</th>\n",
       "      <th>total_points_conceded_rank</th>\n",
       "      <th>avg_points_scored_rank</th>\n",
       "      <th>successful_raids_rank</th>\n",
       "      <th>raid_points_rank</th>\n",
       "      <th>avg_raid_points_rank</th>\n",
       "      <th>successful_tackles_rank</th>\n",
       "      <th>tackle_points_rank</th>\n",
       "      <th>...</th>\n",
       "      <th>avg_raid_points_p</th>\n",
       "      <th>successful_tackles_p</th>\n",
       "      <th>tackle_points_p</th>\n",
       "      <th>avg_tackle_points_p</th>\n",
       "      <th>super_raid_p</th>\n",
       "      <th>super_tackles_p</th>\n",
       "      <th>do_or_die_raid_points_p</th>\n",
       "      <th>all_outs_inflicted_p</th>\n",
       "      <th>all_outs_conceded_p</th>\n",
       "      <th>win_rate</th>\n",
       "    </tr>\n",
       "  </thead>\n",
       "  <tbody>\n",
       "    <tr>\n",
       "      <th>0</th>\n",
       "      <td>1</td>\n",
       "      <td>4</td>\n",
       "      <td>Bengal Warriors</td>\n",
       "      <td>7</td>\n",
       "      <td>1</td>\n",
       "      <td>1</td>\n",
       "      <td>1</td>\n",
       "      <td>1</td>\n",
       "      <td>4</td>\n",
       "      <td>6</td>\n",
       "      <td>...</td>\n",
       "      <td>1.154444</td>\n",
       "      <td>9.222222</td>\n",
       "      <td>9.777778</td>\n",
       "      <td>0.543333</td>\n",
       "      <td>0.833333</td>\n",
       "      <td>0.666667</td>\n",
       "      <td>2.833333</td>\n",
       "      <td>1.611111</td>\n",
       "      <td>0.833333</td>\n",
       "      <td>0.611111</td>\n",
       "    </tr>\n",
       "    <tr>\n",
       "      <th>1</th>\n",
       "      <td>2</td>\n",
       "      <td>1</td>\n",
       "      <td>Bengaluru Bulls</td>\n",
       "      <td>4</td>\n",
       "      <td>3</td>\n",
       "      <td>2</td>\n",
       "      <td>2</td>\n",
       "      <td>2</td>\n",
       "      <td>9</td>\n",
       "      <td>5</td>\n",
       "      <td>...</td>\n",
       "      <td>1.111111</td>\n",
       "      <td>8.555556</td>\n",
       "      <td>9.888889</td>\n",
       "      <td>0.549444</td>\n",
       "      <td>0.388889</td>\n",
       "      <td>1.388889</td>\n",
       "      <td>1.944444</td>\n",
       "      <td>1.000000</td>\n",
       "      <td>1.222222</td>\n",
       "      <td>0.500000</td>\n",
       "    </tr>\n",
       "    <tr>\n",
       "      <th>2</th>\n",
       "      <td>2</td>\n",
       "      <td>6</td>\n",
       "      <td>Patna Pirates</td>\n",
       "      <td>3</td>\n",
       "      <td>5</td>\n",
       "      <td>4</td>\n",
       "      <td>3</td>\n",
       "      <td>5</td>\n",
       "      <td>6</td>\n",
       "      <td>3</td>\n",
       "      <td>...</td>\n",
       "      <td>1.052222</td>\n",
       "      <td>9.000000</td>\n",
       "      <td>10.277778</td>\n",
       "      <td>0.571111</td>\n",
       "      <td>0.666667</td>\n",
       "      <td>1.277778</td>\n",
       "      <td>3.722222</td>\n",
       "      <td>1.444444</td>\n",
       "      <td>1.222222</td>\n",
       "      <td>0.333333</td>\n",
       "    </tr>\n",
       "    <tr>\n",
       "      <th>3</th>\n",
       "      <td>4</td>\n",
       "      <td>2</td>\n",
       "      <td>Dabang Delhi K.C.</td>\n",
       "      <td>11</td>\n",
       "      <td>4</td>\n",
       "      <td>3</td>\n",
       "      <td>4</td>\n",
       "      <td>2</td>\n",
       "      <td>10</td>\n",
       "      <td>11</td>\n",
       "      <td>...</td>\n",
       "      <td>1.176471</td>\n",
       "      <td>8.764706</td>\n",
       "      <td>9.117647</td>\n",
       "      <td>0.536471</td>\n",
       "      <td>0.411765</td>\n",
       "      <td>0.411765</td>\n",
       "      <td>2.470588</td>\n",
       "      <td>1.588235</td>\n",
       "      <td>0.705882</td>\n",
       "      <td>0.764706</td>\n",
       "    </tr>\n",
       "    <tr>\n",
       "      <th>4</th>\n",
       "      <td>5</td>\n",
       "      <td>28</td>\n",
       "      <td>Haryana Steelers</td>\n",
       "      <td>6</td>\n",
       "      <td>2</td>\n",
       "      <td>5</td>\n",
       "      <td>5</td>\n",
       "      <td>4</td>\n",
       "      <td>5</td>\n",
       "      <td>6</td>\n",
       "      <td>...</td>\n",
       "      <td>1.162353</td>\n",
       "      <td>9.705882</td>\n",
       "      <td>10.352941</td>\n",
       "      <td>0.608824</td>\n",
       "      <td>0.705882</td>\n",
       "      <td>0.647059</td>\n",
       "      <td>3.529412</td>\n",
       "      <td>1.470588</td>\n",
       "      <td>1.117647</td>\n",
       "      <td>0.647059</td>\n",
       "    </tr>\n",
       "  </tbody>\n",
       "</table>\n",
       "<p>5 rows × 43 columns</p>\n",
       "</div>"
      ],
      "text/plain": [
       "   total_points_scored_rank  team_id          team_name  \\\n",
       "0                         1        4    Bengal Warriors   \n",
       "1                         2        1    Bengaluru Bulls   \n",
       "2                         2        6      Patna Pirates   \n",
       "3                         4        2  Dabang Delhi K.C.   \n",
       "4                         5       28   Haryana Steelers   \n",
       "\n",
       "   total_points_conceded_rank  avg_points_scored_rank  successful_raids_rank  \\\n",
       "0                           7                       1                      1   \n",
       "1                           4                       3                      2   \n",
       "2                           3                       5                      4   \n",
       "3                          11                       4                      3   \n",
       "4                           6                       2                      5   \n",
       "\n",
       "   raid_points_rank  avg_raid_points_rank  successful_tackles_rank  \\\n",
       "0                 1                     1                        4   \n",
       "1                 2                     2                        9   \n",
       "2                 3                     5                        6   \n",
       "3                 4                     2                       10   \n",
       "4                 5                     4                        5   \n",
       "\n",
       "   tackle_points_rank  ...  avg_raid_points_p  successful_tackles_p  \\\n",
       "0                   6  ...           1.154444              9.222222   \n",
       "1                   5  ...           1.111111              8.555556   \n",
       "2                   3  ...           1.052222              9.000000   \n",
       "3                  11  ...           1.176471              8.764706   \n",
       "4                   6  ...           1.162353              9.705882   \n",
       "\n",
       "   tackle_points_p  avg_tackle_points_p  super_raid_p  super_tackles_p  \\\n",
       "0         9.777778             0.543333      0.833333         0.666667   \n",
       "1         9.888889             0.549444      0.388889         1.388889   \n",
       "2        10.277778             0.571111      0.666667         1.277778   \n",
       "3         9.117647             0.536471      0.411765         0.411765   \n",
       "4        10.352941             0.608824      0.705882         0.647059   \n",
       "\n",
       "   do_or_die_raid_points_p  all_outs_inflicted_p  all_outs_conceded_p  \\\n",
       "0                 2.833333              1.611111             0.833333   \n",
       "1                 1.944444              1.000000             1.222222   \n",
       "2                 3.722222              1.444444             1.222222   \n",
       "3                 2.470588              1.588235             0.705882   \n",
       "4                 3.529412              1.470588             1.117647   \n",
       "\n",
       "   win_rate  \n",
       "0  0.611111  \n",
       "1  0.500000  \n",
       "2  0.333333  \n",
       "3  0.764706  \n",
       "4  0.647059  \n",
       "\n",
       "[5 rows x 43 columns]"
      ]
     },
     "execution_count": 764,
     "metadata": {},
     "output_type": "execute_result"
    }
   ],
   "source": [
    "test_data.head()"
   ]
  },
  {
   "cell_type": "code",
   "execution_count": 765,
   "metadata": {},
   "outputs": [
    {
     "data": {
      "text/plain": [
       "(12, 43)"
      ]
     },
     "execution_count": 765,
     "metadata": {},
     "output_type": "execute_result"
    }
   ],
   "source": [
    "test_data.shape"
   ]
  },
  {
   "cell_type": "code",
   "execution_count": 766,
   "metadata": {},
   "outputs": [],
   "source": [
    "#extra rest training data for rest of seasons\n",
    "train_data  = df_new[df_new['season']!=7]"
   ]
  },
  {
   "cell_type": "code",
   "execution_count": 767,
   "metadata": {},
   "outputs": [
    {
     "data": {
      "text/plain": [
       "(56, 43)"
      ]
     },
     "execution_count": 767,
     "metadata": {},
     "output_type": "execute_result"
    }
   ],
   "source": [
    "train_data.shape"
   ]
  },
  {
   "cell_type": "code",
   "execution_count": 768,
   "metadata": {},
   "outputs": [],
   "source": [
    "#remove irrelevant column\n",
    "train_x = train_data.drop(columns=[\"winner\",\"team_id\",\"team_name\",\"team_short_name\"], axis=1)"
   ]
  },
  {
   "cell_type": "code",
   "execution_count": 769,
   "metadata": {},
   "outputs": [],
   "source": [
    "train_suc_tack_y = train_data[\"successful_tackles_rank\"]"
   ]
  },
  {
   "cell_type": "code",
   "execution_count": 770,
   "metadata": {},
   "outputs": [],
   "source": [
    "train_suc_tack_y = train_suc_tack_y.map(lambda x: 0 if x!=1 else x)"
   ]
  },
  {
   "cell_type": "code",
   "execution_count": 771,
   "metadata": {},
   "outputs": [],
   "source": [
    "train_y = train_suc_tack_y\n"
   ]
  },
  {
   "cell_type": "code",
   "execution_count": 772,
   "metadata": {},
   "outputs": [
    {
     "data": {
      "text/plain": [
       "56"
      ]
     },
     "execution_count": 772,
     "metadata": {},
     "output_type": "execute_result"
    }
   ],
   "source": [
    "len(train_suc_tack_y)"
   ]
  },
  {
   "cell_type": "code",
   "execution_count": 773,
   "metadata": {},
   "outputs": [
    {
     "data": {
      "text/plain": [
       "6"
      ]
     },
     "execution_count": 773,
     "metadata": {},
     "output_type": "execute_result"
    }
   ],
   "source": [
    "train_suc_tack_y.sum()"
   ]
  },
  {
   "cell_type": "code",
   "execution_count": 774,
   "metadata": {},
   "outputs": [],
   "source": [
    "train_id = train_data['team_id']"
   ]
  },
  {
   "cell_type": "code",
   "execution_count": 775,
   "metadata": {},
   "outputs": [],
   "source": [
    "train_team_name = train_data['team_name']"
   ]
  },
  {
   "cell_type": "code",
   "execution_count": 776,
   "metadata": {},
   "outputs": [],
   "source": [
    "train_x = train_x.loc[:, ~train_x.columns.str.endswith('match_played')]"
   ]
  },
  {
   "cell_type": "code",
   "execution_count": 777,
   "metadata": {},
   "outputs": [],
   "source": [
    "train_x = train_x.loc[:, ~train_x.columns.str.endswith('rank')]"
   ]
  },
  {
   "cell_type": "markdown",
   "metadata": {},
   "source": [
    "### Identify Important features"
   ]
  },
  {
   "cell_type": "code",
   "execution_count": 781,
   "metadata": {},
   "outputs": [],
   "source": [
    "from sklearn.linear_model import LogisticRegression\n",
    "logreg = LogisticRegression()"
   ]
  },
  {
   "cell_type": "code",
   "execution_count": 785,
   "metadata": {},
   "outputs": [],
   "source": [
    "from sklearn.feature_selection import RFE\n",
    "rfe = RFE(logreg, 15)             # running RFE with 13 variables as output\n",
    "rfe = rfe.fit(train_x, train_y)"
   ]
  },
  {
   "cell_type": "code",
   "execution_count": 786,
   "metadata": {},
   "outputs": [
    {
     "data": {
      "text/plain": [
       "array([False,  True,  True,  True, False, False, False,  True, False,\n",
       "        True,  True,  True, False,  True,  True, False,  True,  True,\n",
       "       False, False,  True,  True,  True, False,  True])"
      ]
     },
     "execution_count": 786,
     "metadata": {},
     "output_type": "execute_result"
    }
   ],
   "source": [
    "rfe.support_"
   ]
  },
  {
   "cell_type": "code",
   "execution_count": 787,
   "metadata": {},
   "outputs": [
    {
     "data": {
      "text/plain": [
       "[('season', False, 5),\n",
       " ('draws', True, 1),\n",
       " ('is_qualified', True, 1),\n",
       " ('lost', True, 1),\n",
       " ('points', False, 11),\n",
       " ('points_conceded', False, 9),\n",
       " ('points_scored', False, 8),\n",
       " ('position', True, 1),\n",
       " ('score_diff', False, 7),\n",
       " ('tied', True, 1),\n",
       " ('total_points_scored_p', True, 1),\n",
       " ('total_points_conceded_p', True, 1),\n",
       " ('avg_points_scored_p', False, 6),\n",
       " ('successful_raids_p', True, 1),\n",
       " ('raid_points_p', True, 1),\n",
       " ('avg_raid_points_p', False, 10),\n",
       " ('successful_tackles_p', True, 1),\n",
       " ('tackle_points_p', True, 1),\n",
       " ('avg_tackle_points_p', False, 4),\n",
       " ('super_raid_p', False, 3),\n",
       " ('super_tackles_p', True, 1),\n",
       " ('do_or_die_raid_points_p', True, 1),\n",
       " ('all_outs_inflicted_p', True, 1),\n",
       " ('all_outs_conceded_p', False, 2),\n",
       " ('win_rate', True, 1)]"
      ]
     },
     "execution_count": 787,
     "metadata": {},
     "output_type": "execute_result"
    }
   ],
   "source": [
    "list(zip(train_x.columns, rfe.support_, rfe.ranking_))"
   ]
  },
  {
   "cell_type": "code",
   "execution_count": 788,
   "metadata": {},
   "outputs": [
    {
     "name": "stdout",
     "output_type": "stream",
     "text": [
      "Index(['draws', 'is_qualified', 'lost', 'position', 'tied',\n",
      "       'total_points_scored_p', 'total_points_conceded_p',\n",
      "       'successful_raids_p', 'raid_points_p', 'successful_tackles_p',\n",
      "       'tackle_points_p', 'super_tackles_p', 'do_or_die_raid_points_p',\n",
      "       'all_outs_inflicted_p', 'win_rate'],\n",
      "      dtype='object')\n"
     ]
    }
   ],
   "source": [
    "col = train_x.columns[rfe.support_]\n",
    "print(col)"
   ]
  },
  {
   "cell_type": "code",
   "execution_count": 789,
   "metadata": {},
   "outputs": [
    {
     "data": {
      "image/png": "[encoded data removed]",
      "text/plain": [
       "<Figure size 1440x720 with 2 Axes>"
      ]
     },
     "metadata": {
      "needs_background": "light"
     },
     "output_type": "display_data"
    }
   ],
   "source": [
    "plt.figure(figsize = (20,10))        # Size of the figure\n",
    "sns.heatmap(train_x[col].corr(),annot = True)\n",
    "plt.show()"
   ]
  },
  {
   "cell_type": "code",
   "execution_count": 792,
   "metadata": {},
   "outputs": [],
   "source": [
    "#removed highly coorelated columns \n",
    "col = ['is_qualified','lost','tied','position', 'tackle_points_p'\n",
    "       ,'do_or_die_raid_points_p','super_tackles_p','raid_points_p'       \n",
    "      ]\n"
   ]
  },
  {
   "cell_type": "code",
   "execution_count": 793,
   "metadata": {},
   "outputs": [
    {
     "data": {
      "image/png": "[encoded data removed]",
      "text/plain": [
       "<Figure size 1440x720 with 2 Axes>"
      ]
     },
     "metadata": {
      "needs_background": "light"
     },
     "output_type": "display_data"
    }
   ],
   "source": [
    "plt.figure(figsize = (20,10))        # Size of the figure\n",
    "sns.heatmap(train_x[col].corr(),annot = True)\n",
    "plt.show()"
   ]
  },
  {
   "cell_type": "markdown",
   "metadata": {},
   "source": [
    "### Scaling Data "
   ]
  },
  {
   "cell_type": "code",
   "execution_count": 794,
   "metadata": {},
   "outputs": [],
   "source": [
    "from sklearn.model_selection import train_test_split\n",
    "from sklearn.metrics import roc_curve, auc, roc_auc_score\n",
    "\n",
    "X = train_x[col]\n",
    "\n",
    "Y = train_y\n",
    "\n",
    "X_train, X_test, y_train, y_test = train_test_split(X, Y, test_size=0.3, random_state=3)\n",
    "\n",
    "\n"
   ]
  },
  {
   "cell_type": "code",
   "execution_count": 795,
   "metadata": {},
   "outputs": [],
   "source": [
    "from sklearn.preprocessing import StandardScaler\n",
    "\n",
    "sc = StandardScaler()\n",
    "X_train = sc.fit_transform(X_train)\n",
    "X_test = sc.transform(X_test)\n"
   ]
  },
  {
   "cell_type": "code",
   "execution_count": 796,
   "metadata": {},
   "outputs": [],
   "source": [
    "X_test_pred = sc.transform(test_data[col])"
   ]
  },
  {
   "cell_type": "code",
   "execution_count": 797,
   "metadata": {},
   "outputs": [
    {
     "data": {
      "text/html": [
       "<div>\n",
       "<style scoped>\n",
       "    .dataframe tbody tr th:only-of-type {\n",
       "        vertical-align: middle;\n",
       "    }\n",
       "\n",
       "    .dataframe tbody tr th {\n",
       "        vertical-align: top;\n",
       "    }\n",
       "\n",
       "    .dataframe thead th {\n",
       "        text-align: right;\n",
       "    }\n",
       "</style>\n",
       "<table border=\"1\" class=\"dataframe\">\n",
       "  <thead>\n",
       "    <tr style=\"text-align: right;\">\n",
       "      <th></th>\n",
       "      <th>Features</th>\n",
       "      <th>VIF</th>\n",
       "    </tr>\n",
       "  </thead>\n",
       "  <tbody>\n",
       "    <tr>\n",
       "      <th>4</th>\n",
       "      <td>tackle_points_p</td>\n",
       "      <td>78.49</td>\n",
       "    </tr>\n",
       "    <tr>\n",
       "      <th>7</th>\n",
       "      <td>raid_points_p</td>\n",
       "      <td>46.85</td>\n",
       "    </tr>\n",
       "    <tr>\n",
       "      <th>5</th>\n",
       "      <td>do_or_die_raid_points_p</td>\n",
       "      <td>24.38</td>\n",
       "    </tr>\n",
       "    <tr>\n",
       "      <th>3</th>\n",
       "      <td>position</td>\n",
       "      <td>13.10</td>\n",
       "    </tr>\n",
       "    <tr>\n",
       "      <th>1</th>\n",
       "      <td>lost</td>\n",
       "      <td>12.17</td>\n",
       "    </tr>\n",
       "    <tr>\n",
       "      <th>6</th>\n",
       "      <td>super_tackles_p</td>\n",
       "      <td>9.97</td>\n",
       "    </tr>\n",
       "    <tr>\n",
       "      <th>2</th>\n",
       "      <td>tied</td>\n",
       "      <td>4.11</td>\n",
       "    </tr>\n",
       "    <tr>\n",
       "      <th>0</th>\n",
       "      <td>is_qualified</td>\n",
       "      <td>2.21</td>\n",
       "    </tr>\n",
       "  </tbody>\n",
       "</table>\n",
       "</div>"
      ],
      "text/plain": [
       "                  Features    VIF\n",
       "4          tackle_points_p  78.49\n",
       "7            raid_points_p  46.85\n",
       "5  do_or_die_raid_points_p  24.38\n",
       "3                 position  13.10\n",
       "1                     lost  12.17\n",
       "6          super_tackles_p   9.97\n",
       "2                     tied   4.11\n",
       "0             is_qualified   2.21"
      ]
     },
     "execution_count": 797,
     "metadata": {},
     "output_type": "execute_result"
    }
   ],
   "source": [
    "from statsmodels.stats.outliers_influence import variance_inflation_factor\n",
    "# Create a dataframe that will contain the names of all the feature variables and their respective VIFs\n",
    "vif = pd.DataFrame()\n",
    "vif['Features'] = X.columns\n",
    "vif['VIF'] = [variance_inflation_factor(X.values, i) for i in range(X.shape[1])]\n",
    "vif['VIF'] = round(vif['VIF'], 2)\n",
    "vif = vif.sort_values(by = \"VIF\", ascending = False)\n",
    "vif"
   ]
  },
  {
   "cell_type": "markdown",
   "metadata": {},
   "source": [
    "## Module Building "
   ]
  },
  {
   "cell_type": "markdown",
   "metadata": {},
   "source": [
    "### 1. Random Forest"
   ]
  },
  {
   "cell_type": "code",
   "execution_count": 832,
   "metadata": {},
   "outputs": [],
   "source": [
    "from sklearn.ensemble import RandomForestClassifier\n",
    "\n",
    "#regressor = RandomForestRegressor(n_estimators=100, random_state=3)\n",
    "\n",
    "regressor = RandomForestClassifier(n_estimators=75, random_state=3,                    \n",
    "                              class_weight=\"balanced\")\n",
    "\n",
    "regressor.fit(X_train, y_train)\n",
    "y_test_pred = regressor.predict(X_test)\n",
    "\n"
   ]
  },
  {
   "cell_type": "code",
   "execution_count": 833,
   "metadata": {},
   "outputs": [
    {
     "data": {
      "text/html": [
       "<div>\n",
       "<style scoped>\n",
       "    .dataframe tbody tr th:only-of-type {\n",
       "        vertical-align: middle;\n",
       "    }\n",
       "\n",
       "    .dataframe tbody tr th {\n",
       "        vertical-align: top;\n",
       "    }\n",
       "\n",
       "    .dataframe thead th {\n",
       "        text-align: right;\n",
       "    }\n",
       "</style>\n",
       "<table border=\"1\" class=\"dataframe\">\n",
       "  <thead>\n",
       "    <tr style=\"text-align: right;\">\n",
       "      <th></th>\n",
       "      <th>winner</th>\n",
       "      <th>winner_Prob</th>\n",
       "    </tr>\n",
       "  </thead>\n",
       "  <tbody>\n",
       "    <tr>\n",
       "      <th>24</th>\n",
       "      <td>0</td>\n",
       "      <td>0</td>\n",
       "    </tr>\n",
       "    <tr>\n",
       "      <th>46</th>\n",
       "      <td>0</td>\n",
       "      <td>1</td>\n",
       "    </tr>\n",
       "    <tr>\n",
       "      <th>21</th>\n",
       "      <td>0</td>\n",
       "      <td>0</td>\n",
       "    </tr>\n",
       "    <tr>\n",
       "      <th>65</th>\n",
       "      <td>0</td>\n",
       "      <td>0</td>\n",
       "    </tr>\n",
       "    <tr>\n",
       "      <th>58</th>\n",
       "      <td>0</td>\n",
       "      <td>0</td>\n",
       "    </tr>\n",
       "  </tbody>\n",
       "</table>\n",
       "</div>"
      ],
      "text/plain": [
       "    winner  winner_Prob\n",
       "24       0            0\n",
       "46       0            1\n",
       "21       0            0\n",
       "65       0            0\n",
       "58       0            0"
      ]
     },
     "execution_count": 833,
     "metadata": {},
     "output_type": "execute_result"
    }
   ],
   "source": [
    "y_test_pred_final = pd.DataFrame({'winner':y_test, 'winner_Prob':y_test_pred})\n",
    "\n",
    "y_test_pred_final.head()"
   ]
  },
  {
   "cell_type": "code",
   "execution_count": 834,
   "metadata": {},
   "outputs": [],
   "source": [
    "from sklearn.metrics import classification_report, confusion_matrix, accuracy_score, roc_auc_score\n",
    "\n",
    "from sklearn import metrics\n",
    "\n",
    "\n"
   ]
  },
  {
   "cell_type": "code",
   "execution_count": 835,
   "metadata": {},
   "outputs": [
    {
     "name": "stdout",
     "output_type": "stream",
     "text": [
      "0.46875\n"
     ]
    }
   ],
   "source": [
    "auc_score = roc_auc_score( y_test_pred_final.winner, y_test_pred_final.winner_Prob )\n",
    "print(auc_score)"
   ]
  },
  {
   "cell_type": "code",
   "execution_count": 836,
   "metadata": {},
   "outputs": [],
   "source": [
    "def draw_roc( actual, probs ):\n",
    "    fpr, tpr, thresholds = metrics.roc_curve( actual, probs,\n",
    "                                              drop_intermediate = False )\n",
    "    auc_score = metrics.roc_auc_score( actual, probs )\n",
    "    plt.figure(figsize=(5, 5))\n",
    "    plt.plot( fpr, tpr, label='ROC curve (area = %0.2f)' % auc_score )\n",
    "    plt.plot([0, 1], [0, 1], 'k--')\n",
    "    plt.xlim([0.0, 1.0])\n",
    "    plt.ylim([0.0, 1.05])\n",
    "    plt.xlabel('False Positive Rate or [1 - True Negative Rate]')\n",
    "    plt.ylabel('True Positive Rate')\n",
    "    plt.title('Receiver operating characteristic example')\n",
    "    plt.legend(loc=\"lower right\")\n",
    "    plt.show()\n",
    "\n",
    "    return None"
   ]
  },
  {
   "cell_type": "code",
   "execution_count": 837,
   "metadata": {},
   "outputs": [
    {
     "data": {
      "image/png": "[encoded data removed]",
      "text/plain": [
       "<Figure size 360x360 with 1 Axes>"
      ]
     },
     "metadata": {
      "needs_background": "light"
     },
     "output_type": "display_data"
    }
   ],
   "source": [
    "draw_roc(y_test_pred_final.winner, y_test_pred_final.winner_Prob)"
   ]
  },
  {
   "cell_type": "code",
   "execution_count": 838,
   "metadata": {},
   "outputs": [],
   "source": [
    "y_team_pred = regressor.predict_proba(X_test_pred)"
   ]
  },
  {
   "cell_type": "code",
   "execution_count": 839,
   "metadata": {},
   "outputs": [],
   "source": [
    "y_test_final = pd.DataFrame({\"team_name\":test_data.team_name, 'winner_prob':y_team_pred[:,1]})"
   ]
  },
  {
   "cell_type": "code",
   "execution_count": 840,
   "metadata": {},
   "outputs": [
    {
     "data": {
      "text/html": [
       "<div>\n",
       "<style scoped>\n",
       "    .dataframe tbody tr th:only-of-type {\n",
       "        vertical-align: middle;\n",
       "    }\n",
       "\n",
       "    .dataframe tbody tr th {\n",
       "        vertical-align: top;\n",
       "    }\n",
       "\n",
       "    .dataframe thead th {\n",
       "        text-align: right;\n",
       "    }\n",
       "</style>\n",
       "<table border=\"1\" class=\"dataframe\">\n",
       "  <thead>\n",
       "    <tr style=\"text-align: right;\">\n",
       "      <th></th>\n",
       "      <th>team_name</th>\n",
       "      <th>winner_prob</th>\n",
       "    </tr>\n",
       "  </thead>\n",
       "  <tbody>\n",
       "    <tr>\n",
       "      <th>0</th>\n",
       "      <td>Bengal Warriors</td>\n",
       "      <td>0.106667</td>\n",
       "    </tr>\n",
       "    <tr>\n",
       "      <th>1</th>\n",
       "      <td>Bengaluru Bulls</td>\n",
       "      <td>0.013333</td>\n",
       "    </tr>\n",
       "    <tr>\n",
       "      <th>2</th>\n",
       "      <td>Patna Pirates</td>\n",
       "      <td>0.026667</td>\n",
       "    </tr>\n",
       "    <tr>\n",
       "      <th>3</th>\n",
       "      <td>Dabang Delhi K.C.</td>\n",
       "      <td>0.173333</td>\n",
       "    </tr>\n",
       "    <tr>\n",
       "      <th>4</th>\n",
       "      <td>Haryana Steelers</td>\n",
       "      <td>0.146667</td>\n",
       "    </tr>\n",
       "    <tr>\n",
       "      <th>5</th>\n",
       "      <td>Puneri Paltan</td>\n",
       "      <td>0.093333</td>\n",
       "    </tr>\n",
       "    <tr>\n",
       "      <th>6</th>\n",
       "      <td>Jaipur Pink Panthers</td>\n",
       "      <td>0.133333</td>\n",
       "    </tr>\n",
       "    <tr>\n",
       "      <th>7</th>\n",
       "      <td>U Mumba</td>\n",
       "      <td>0.026667</td>\n",
       "    </tr>\n",
       "    <tr>\n",
       "      <th>8</th>\n",
       "      <td>Tamil Thalaivas</td>\n",
       "      <td>0.000000</td>\n",
       "    </tr>\n",
       "    <tr>\n",
       "      <th>9</th>\n",
       "      <td>Gujarat Fortunegiants</td>\n",
       "      <td>0.000000</td>\n",
       "    </tr>\n",
       "    <tr>\n",
       "      <th>10</th>\n",
       "      <td>U.P. Yoddha</td>\n",
       "      <td>0.133333</td>\n",
       "    </tr>\n",
       "    <tr>\n",
       "      <th>11</th>\n",
       "      <td>Telugu Titans</td>\n",
       "      <td>0.000000</td>\n",
       "    </tr>\n",
       "  </tbody>\n",
       "</table>\n",
       "</div>"
      ],
      "text/plain": [
       "                team_name  winner_prob\n",
       "0         Bengal Warriors     0.106667\n",
       "1         Bengaluru Bulls     0.013333\n",
       "2           Patna Pirates     0.026667\n",
       "3       Dabang Delhi K.C.     0.173333\n",
       "4        Haryana Steelers     0.146667\n",
       "5           Puneri Paltan     0.093333\n",
       "6    Jaipur Pink Panthers     0.133333\n",
       "7                 U Mumba     0.026667\n",
       "8         Tamil Thalaivas     0.000000\n",
       "9   Gujarat Fortunegiants     0.000000\n",
       "10            U.P. Yoddha     0.133333\n",
       "11          Telugu Titans     0.000000"
      ]
     },
     "execution_count": 840,
     "metadata": {},
     "output_type": "execute_result"
    }
   ],
   "source": [
    "y_test_final"
   ]
  },
  {
   "cell_type": "markdown",
   "metadata": {},
   "source": [
    "### 2. Logistic Regression"
   ]
  },
  {
   "cell_type": "code",
   "execution_count": 841,
   "metadata": {},
   "outputs": [
    {
     "name": "stdout",
     "output_type": "stream",
     "text": [
      "0.9375\n"
     ]
    }
   ],
   "source": [
    "import numpy as np\n",
    "from sklearn.linear_model import LogisticRegression\n",
    "\n",
    "\n",
    "est = LogisticRegression(random_state=0, class_weight='balanced')\n",
    "\n",
    "est.fit(X_train, y_train)\n",
    "\n",
    "print (roc_auc_score(y_test, est.predict(X_test)))"
   ]
  },
  {
   "cell_type": "code",
   "execution_count": 842,
   "metadata": {},
   "outputs": [],
   "source": [
    "y_test_pred = est.predict_proba(X_test_pred)"
   ]
  },
  {
   "cell_type": "code",
   "execution_count": 843,
   "metadata": {},
   "outputs": [
    {
     "data": {
      "text/plain": [
       "array([[0.67585602, 0.32414398],\n",
       "       [0.87733476, 0.12266524],\n",
       "       [0.90102905, 0.09897095],\n",
       "       [0.55631422, 0.44368578],\n",
       "       [0.34704303, 0.65295697],\n",
       "       [0.88882793, 0.11117207],\n",
       "       [0.92318763, 0.07681237],\n",
       "       [0.74619976, 0.25380024],\n",
       "       [0.99622896, 0.00377104],\n",
       "       [0.97950437, 0.02049563],\n",
       "       [0.80689738, 0.19310262],\n",
       "       [0.99161441, 0.00838559]])"
      ]
     },
     "execution_count": 843,
     "metadata": {},
     "output_type": "execute_result"
    }
   ],
   "source": [
    "y_test_pred"
   ]
  },
  {
   "cell_type": "code",
   "execution_count": 844,
   "metadata": {},
   "outputs": [],
   "source": [
    "y_test_final = pd.DataFrame({\"team_name\":test_data.team_name, 'winner_prob':y_test_pred[:,1]})"
   ]
  },
  {
   "cell_type": "code",
   "execution_count": 845,
   "metadata": {},
   "outputs": [
    {
     "data": {
      "text/html": [
       "<div>\n",
       "<style scoped>\n",
       "    .dataframe tbody tr th:only-of-type {\n",
       "        vertical-align: middle;\n",
       "    }\n",
       "\n",
       "    .dataframe tbody tr th {\n",
       "        vertical-align: top;\n",
       "    }\n",
       "\n",
       "    .dataframe thead th {\n",
       "        text-align: right;\n",
       "    }\n",
       "</style>\n",
       "<table border=\"1\" class=\"dataframe\">\n",
       "  <thead>\n",
       "    <tr style=\"text-align: right;\">\n",
       "      <th></th>\n",
       "      <th>team_name</th>\n",
       "      <th>winner_prob</th>\n",
       "    </tr>\n",
       "  </thead>\n",
       "  <tbody>\n",
       "    <tr>\n",
       "      <th>0</th>\n",
       "      <td>Bengal Warriors</td>\n",
       "      <td>0.324144</td>\n",
       "    </tr>\n",
       "    <tr>\n",
       "      <th>1</th>\n",
       "      <td>Bengaluru Bulls</td>\n",
       "      <td>0.122665</td>\n",
       "    </tr>\n",
       "    <tr>\n",
       "      <th>2</th>\n",
       "      <td>Patna Pirates</td>\n",
       "      <td>0.098971</td>\n",
       "    </tr>\n",
       "    <tr>\n",
       "      <th>3</th>\n",
       "      <td>Dabang Delhi K.C.</td>\n",
       "      <td>0.443686</td>\n",
       "    </tr>\n",
       "    <tr>\n",
       "      <th>4</th>\n",
       "      <td>Haryana Steelers</td>\n",
       "      <td>0.652957</td>\n",
       "    </tr>\n",
       "    <tr>\n",
       "      <th>5</th>\n",
       "      <td>Puneri Paltan</td>\n",
       "      <td>0.111172</td>\n",
       "    </tr>\n",
       "    <tr>\n",
       "      <th>6</th>\n",
       "      <td>Jaipur Pink Panthers</td>\n",
       "      <td>0.076812</td>\n",
       "    </tr>\n",
       "    <tr>\n",
       "      <th>7</th>\n",
       "      <td>U Mumba</td>\n",
       "      <td>0.253800</td>\n",
       "    </tr>\n",
       "    <tr>\n",
       "      <th>8</th>\n",
       "      <td>Tamil Thalaivas</td>\n",
       "      <td>0.003771</td>\n",
       "    </tr>\n",
       "    <tr>\n",
       "      <th>9</th>\n",
       "      <td>Gujarat Fortunegiants</td>\n",
       "      <td>0.020496</td>\n",
       "    </tr>\n",
       "    <tr>\n",
       "      <th>10</th>\n",
       "      <td>U.P. Yoddha</td>\n",
       "      <td>0.193103</td>\n",
       "    </tr>\n",
       "    <tr>\n",
       "      <th>11</th>\n",
       "      <td>Telugu Titans</td>\n",
       "      <td>0.008386</td>\n",
       "    </tr>\n",
       "  </tbody>\n",
       "</table>\n",
       "</div>"
      ],
      "text/plain": [
       "                team_name  winner_prob\n",
       "0         Bengal Warriors     0.324144\n",
       "1         Bengaluru Bulls     0.122665\n",
       "2           Patna Pirates     0.098971\n",
       "3       Dabang Delhi K.C.     0.443686\n",
       "4        Haryana Steelers     0.652957\n",
       "5           Puneri Paltan     0.111172\n",
       "6    Jaipur Pink Panthers     0.076812\n",
       "7                 U Mumba     0.253800\n",
       "8         Tamil Thalaivas     0.003771\n",
       "9   Gujarat Fortunegiants     0.020496\n",
       "10            U.P. Yoddha     0.193103\n",
       "11          Telugu Titans     0.008386"
      ]
     },
     "execution_count": 845,
     "metadata": {},
     "output_type": "execute_result"
    }
   ],
   "source": [
    "y_test_final"
   ]
  },
  {
   "cell_type": "markdown",
   "metadata": {},
   "source": [
    "### 3. XGBoost"
   ]
  },
  {
   "cell_type": "code",
   "execution_count": 846,
   "metadata": {},
   "outputs": [],
   "source": [
    "from numpy import loadtxt\n",
    "from xgboost import XGBClassifier\n"
   ]
  },
  {
   "cell_type": "code",
   "execution_count": 847,
   "metadata": {
    "scrolled": true
   },
   "outputs": [
    {
     "data": {
      "text/plain": [
       "XGBClassifier(base_score=0.5, booster='gbtree', colsample_bylevel=1,\n",
       "       colsample_bynode=1, colsample_bytree=1, gamma=0, learning_rate=0.1,\n",
       "       max_delta_step=0, max_depth=3, min_child_weight=1, missing=None,\n",
       "       n_estimators=100, n_jobs=1, nthread=None,\n",
       "       objective='binary:logistic', random_state=0, reg_alpha=0,\n",
       "       reg_lambda=1, scale_pos_weight=6, seed=None, silent=None,\n",
       "       subsample=1, verbosity=1)"
      ]
     },
     "execution_count": 847,
     "metadata": {},
     "output_type": "execute_result"
    }
   ],
   "source": [
    "model = XGBClassifier(scale_pos_weight=6)\n",
    "                    \n",
    "                             \n",
    "model.fit(X_train, y_train)"
   ]
  },
  {
   "cell_type": "code",
   "execution_count": 848,
   "metadata": {},
   "outputs": [
    {
     "name": "stderr",
     "output_type": "stream",
     "text": [
      "/usr/local/lib/python3.6/dist-packages/sklearn/preprocessing/label.py:151: DeprecationWarning: The truth value of an empty array is ambiguous. Returning False, but in future this will result in an error. Use `array.size > 0` to check that an array is not empty.\n",
      "  if diff:\n"
     ]
    }
   ],
   "source": [
    "y_pred = model.predict(X_test)\n"
   ]
  },
  {
   "cell_type": "code",
   "execution_count": 849,
   "metadata": {
    "scrolled": true
   },
   "outputs": [
    {
     "name": "stdout",
     "output_type": "stream",
     "text": [
      "0.5\n"
     ]
    }
   ],
   "source": [
    "print (roc_auc_score(y_test, y_pred))"
   ]
  },
  {
   "cell_type": "code",
   "execution_count": 850,
   "metadata": {
    "scrolled": true
   },
   "outputs": [
    {
     "data": {
      "image/png": "[encoded data removed]",
      "text/plain": [
       "<Figure size 360x360 with 1 Axes>"
      ]
     },
     "metadata": {
      "needs_background": "light"
     },
     "output_type": "display_data"
    }
   ],
   "source": [
    "draw_roc(y_test,y_pred)"
   ]
  },
  {
   "cell_type": "code",
   "execution_count": 851,
   "metadata": {
    "scrolled": true
   },
   "outputs": [],
   "source": [
    "y_pred = model.predict_proba(X_test_pred)"
   ]
  },
  {
   "cell_type": "code",
   "execution_count": 852,
   "metadata": {},
   "outputs": [],
   "source": [
    "y_test_final = pd.DataFrame({\"team_name\":test_data.team_name, 'winner_prob':y_pred[:,1]})"
   ]
  },
  {
   "cell_type": "code",
   "execution_count": 853,
   "metadata": {
    "scrolled": true
   },
   "outputs": [
    {
     "data": {
      "text/html": [
       "<div>\n",
       "<style scoped>\n",
       "    .dataframe tbody tr th:only-of-type {\n",
       "        vertical-align: middle;\n",
       "    }\n",
       "\n",
       "    .dataframe tbody tr th {\n",
       "        vertical-align: top;\n",
       "    }\n",
       "\n",
       "    .dataframe thead th {\n",
       "        text-align: right;\n",
       "    }\n",
       "</style>\n",
       "<table border=\"1\" class=\"dataframe\">\n",
       "  <thead>\n",
       "    <tr style=\"text-align: right;\">\n",
       "      <th></th>\n",
       "      <th>team_name</th>\n",
       "      <th>winner_prob</th>\n",
       "    </tr>\n",
       "  </thead>\n",
       "  <tbody>\n",
       "    <tr>\n",
       "      <th>0</th>\n",
       "      <td>Bengal Warriors</td>\n",
       "      <td>0.041494</td>\n",
       "    </tr>\n",
       "    <tr>\n",
       "      <th>1</th>\n",
       "      <td>Bengaluru Bulls</td>\n",
       "      <td>0.031053</td>\n",
       "    </tr>\n",
       "    <tr>\n",
       "      <th>2</th>\n",
       "      <td>Patna Pirates</td>\n",
       "      <td>0.012290</td>\n",
       "    </tr>\n",
       "    <tr>\n",
       "      <th>3</th>\n",
       "      <td>Dabang Delhi K.C.</td>\n",
       "      <td>0.043500</td>\n",
       "    </tr>\n",
       "    <tr>\n",
       "      <th>4</th>\n",
       "      <td>Haryana Steelers</td>\n",
       "      <td>0.020295</td>\n",
       "    </tr>\n",
       "    <tr>\n",
       "      <th>5</th>\n",
       "      <td>Puneri Paltan</td>\n",
       "      <td>0.242123</td>\n",
       "    </tr>\n",
       "    <tr>\n",
       "      <th>6</th>\n",
       "      <td>Jaipur Pink Panthers</td>\n",
       "      <td>0.242123</td>\n",
       "    </tr>\n",
       "    <tr>\n",
       "      <th>7</th>\n",
       "      <td>U Mumba</td>\n",
       "      <td>0.012290</td>\n",
       "    </tr>\n",
       "    <tr>\n",
       "      <th>8</th>\n",
       "      <td>Tamil Thalaivas</td>\n",
       "      <td>0.006689</td>\n",
       "    </tr>\n",
       "    <tr>\n",
       "      <th>9</th>\n",
       "      <td>Gujarat Fortunegiants</td>\n",
       "      <td>0.004224</td>\n",
       "    </tr>\n",
       "    <tr>\n",
       "      <th>10</th>\n",
       "      <td>U.P. Yoddha</td>\n",
       "      <td>0.003531</td>\n",
       "    </tr>\n",
       "    <tr>\n",
       "      <th>11</th>\n",
       "      <td>Telugu Titans</td>\n",
       "      <td>0.004224</td>\n",
       "    </tr>\n",
       "  </tbody>\n",
       "</table>\n",
       "</div>"
      ],
      "text/plain": [
       "                team_name  winner_prob\n",
       "0         Bengal Warriors     0.041494\n",
       "1         Bengaluru Bulls     0.031053\n",
       "2           Patna Pirates     0.012290\n",
       "3       Dabang Delhi K.C.     0.043500\n",
       "4        Haryana Steelers     0.020295\n",
       "5           Puneri Paltan     0.242123\n",
       "6    Jaipur Pink Panthers     0.242123\n",
       "7                 U Mumba     0.012290\n",
       "8         Tamil Thalaivas     0.006689\n",
       "9   Gujarat Fortunegiants     0.004224\n",
       "10            U.P. Yoddha     0.003531\n",
       "11          Telugu Titans     0.004224"
      ]
     },
     "execution_count": 853,
     "metadata": {},
     "output_type": "execute_result"
    }
   ],
   "source": [
    "y_test_final"
   ]
  },
  {
   "cell_type": "markdown",
   "metadata": {},
   "source": [
    "   Model                  Accuracy \n",
    "1. Random Forest            46 %\n",
    "2. Logistic Regression      93%\n",
    "3. XGBoost                  50%\n",
    "\n",
    "\n",
    "Logistic Regression has higher accuracy rate."
   ]
  },
  {
   "cell_type": "markdown",
   "metadata": {},
   "source": [
    "***Task 4: Predicting the team with the highest points for successful tackles = 'Haryana Steelers'***"
   ]
  },
  {
   "cell_type": "code",
   "execution_count": null,
   "metadata": {},
   "outputs": [],
   "source": []
  }
 ],
 "metadata": {
  "kernelspec": {
   "display_name": "Python 3",
   "language": "python",
   "name": "python3"
  },
  "language_info": {
   "codemirror_mode": {
    "name": "ipython",
    "version": 3
   },
   "file_extension": ".py",
   "mimetype": "text/x-python",
   "name": "python",
   "nbconvert_exporter": "python",
   "pygments_lexer": "ipython3",
   "version": "3.6.9"
  }
 },
 "nbformat": 4,
 "nbformat_minor": 2
}
